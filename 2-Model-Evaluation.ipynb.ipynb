{
  "nbformat": 4,
  "nbformat_minor": 0,
  "metadata": {
    "colab": {
      "provenance": [],
      "gpuType": "T4"
    },
    "kernelspec": {
      "name": "python3",
      "display_name": "Python 3"
    },
    "language_info": {
      "name": "python"
    },
    "accelerator": "GPU"
  },
  "cells": [
    {
      "cell_type": "markdown",
      "source": [
        "Step 1: Setup and Enviroment"
      ],
      "metadata": {
        "id": "lnrH8pCJ_SSZ"
      }
    },
    {
      "cell_type": "code",
      "execution_count": 1,
      "metadata": {
        "colab": {
          "base_uri": "https://localhost:8080/"
        },
        "id": "GbkWcbpg-wgA",
        "outputId": "715fa2e5-531c-41aa-e13e-02f993b1a708"
      },
      "outputs": [
        {
          "output_type": "stream",
          "name": "stdout",
          "text": [
            "--- Step 1: Setting up the environment ---\n",
            "\n",
            "--- Mounting Google Drive ---\n",
            "Drive already mounted at /content/drive; to attempt to forcibly remount, call drive.mount(\"/content/drive\", force_remount=True).\n",
            "\n",
            "--- Authenticating with Kaggle ---\n",
            "\n",
            "Using device: cuda\n"
          ]
        }
      ],
      "source": [
        "\n",
        "print(\"--- Step 1: Setting up the environment ---\")\n",
        "\n",
        "# Install necessary libraries quietly\n",
        "!pip install kagglehub transformers datasets scikit-learn accelerate torch -q\n",
        "\n",
        "import os\n",
        "import torch\n",
        "import numpy as np\n",
        "import matplotlib.pyplot as plt\n",
        "import seaborn as sns\n",
        "from google.colab import drive, userdata\n",
        "from PIL import Image\n",
        "from torch.utils.data import Dataset\n",
        "from transformers import SegformerForImageClassification, SegformerImageProcessor, Trainer\n",
        "from sklearn.metrics import confusion_matrix, classification_report\n",
        "import kagglehub\n",
        "import glob\n",
        "\n",
        "os.environ[\"WANDB_DISABLED\"] = \"true\"\n",
        "\n",
        "# Mount your Google Drive to access the saved model\n",
        "print(\"\\n--- Mounting Google Drive ---\")\n",
        "drive.mount('/content/drive')\n",
        "\n",
        "# Authenticate with Kaggle to download the test dataset\n",
        "print(\"\\n--- Authenticating with Kaggle ---\")\n",
        "os.environ[\"KAGGLE_USERNAME\"] = userdata.get('KAGGLE_USERNAME')\n",
        "os.environ[\"KAGGLE_KEY\"] = userdata.get('KAGGLE_KEY')\n",
        "\n",
        "# Define the device to use (GPU if available)\n",
        "device = torch.device(\"cuda\" if torch.cuda.is_available() else \"cpu\")\n",
        "print(f\"\\nUsing device: {device}\")"
      ]
    },
    {
      "cell_type": "markdown",
      "source": [
        "Step 2: Locate Your Trained Model"
      ],
      "metadata": {
        "id": "b9pCYxHG_SuV"
      }
    },
    {
      "cell_type": "code",
      "source": [
        "\n",
        "print(\"\\n--- Step 2: Select your trained model from Google Drive ---\")\n",
        "\n",
        "# The base directory where your models are saved\n",
        "base_drive_path = \"/content/drive/MyDrive\"\n",
        "\n",
        "try:\n",
        "    # Get a list of all items in the base directory and filter for folders only\n",
        "    all_folders = [f for f in os.listdir(base_drive_path) if os.path.isdir(os.path.join(base_drive_path, f))]\n",
        "\n",
        "    # We assume model folders contain a 'config.json' file, so we filter for those\n",
        "    model_folders = [f for f in all_folders if 'config.json' in os.listdir(os.path.join(base_drive_path, f))]\n",
        "\n",
        "    if not model_folders:\n",
        "        print(\"❌ ERROR: No trained model folders found in your Google Drive.\")\n",
        "        print(\"A valid model folder should contain a 'config.json' file.\")\n",
        "        # This will stop the execution if no models are found\n",
        "        raise FileNotFoundError(\"No valid model folders found.\")\n",
        "\n",
        "    # --- Interactive Selection ---\n",
        "    print(\"Please choose the model folder you want to test:\")\n",
        "    for i, folder_name in enumerate(model_folders):\n",
        "        print(f\"  [{i+1}] {folder_name}\")\n",
        "\n",
        "    selected_index = -1\n",
        "    while selected_index < 1 or selected_index > len(model_folders):\n",
        "        try:\n",
        "            choice = input(f\"\\nEnter the number of the model folder (1-{len(model_folders)}): \")\n",
        "            selected_index = int(choice)\n",
        "            if not (1 <= selected_index <= len(model_folders)):\n",
        "                print(\"Invalid number. Please try again.\")\n",
        "        except ValueError:\n",
        "            print(\"Invalid input. Please enter a number.\")\n",
        "\n",
        "    # Get the folder name based on the user's choice (adjusting for 0-based index)\n",
        "    selected_folder_name = model_folders[selected_index - 1]\n",
        "\n",
        "    # Construct the final, full path to the model\n",
        "    MODEL_PATH_IN_DRIVE = os.path.join(base_drive_path, selected_folder_name)\n",
        "    print(f\"\\n✅ You have selected: '{selected_folder_name}'\")\n",
        "    print(f\"Model will be loaded from: {MODEL_PATH_IN_DRIVE}\")\n",
        "\n",
        "except FileNotFoundError as e:\n",
        "    print(f\"\\nAn error occurred: {e}\")\n",
        "    print(\"Please make sure your Google Drive is mounted and the model folder is in '/content/drive/MyDrive/'.\")"
      ],
      "metadata": {
        "colab": {
          "base_uri": "https://localhost:8080/"
        },
        "id": "EHZaYYBQ_TBc",
        "outputId": "0c3dfcaa-1240-4914-efdb-724e17f39ec9"
      },
      "execution_count": 2,
      "outputs": [
        {
          "output_type": "stream",
          "name": "stdout",
          "text": [
            "\n",
            "--- Step 2: Select your trained model from Google Drive ---\n",
            "Please choose the model folder you want to test:\n",
            "  [1] segformer-brain-tumor-finetuned\n",
            "  [2] Segformer-Brain-Tumor Model\n",
            "\n",
            "Enter the number of the model folder (1-2): 2\n",
            "\n",
            "✅ You have selected: 'Segformer-Brain-Tumor Model'\n",
            "Model will be loaded from: /content/drive/MyDrive/Segformer-Brain-Tumor Model\n"
          ]
        }
      ]
    },
    {
      "cell_type": "markdown",
      "source": [
        "Step 3: Load the Test Dataset from Kaggle"
      ],
      "metadata": {
        "id": "_mX25gd9_TYn"
      }
    },
    {
      "cell_type": "code",
      "source": [
        "print(\"\\n--- Step 3: Loading the test dataset ---\")\n",
        "\n",
        "# Download the dataset to get a clean copy\n",
        "dataset_path = kagglehub.dataset_download(\"masoudnickparvar/brain-tumor-mri-dataset\")\n",
        "\n",
        "# IMPORTANT: We will ONLY use the 'Testing' folder for a true evaluation\n",
        "test_dir = os.path.join(dataset_path, \"Testing\")\n",
        "\n",
        "# Find all image paths and their labels from the testing folder\n",
        "test_paths = list(glob.glob(os.path.join(test_dir, \"*\", \"*.jpg\")))\n",
        "test_labels = [os.path.basename(os.path.dirname(p)) for p in test_paths]\n",
        "\n",
        "print(f\"Found {len(test_paths)} images in the 'Testing' folder for final evaluation.\")"
      ],
      "metadata": {
        "colab": {
          "base_uri": "https://localhost:8080/"
        },
        "id": "G_Aw1m_K_Tt-",
        "outputId": "6113ccfe-ce53-4f83-8cbe-b198165d7809"
      },
      "execution_count": 3,
      "outputs": [
        {
          "output_type": "stream",
          "name": "stdout",
          "text": [
            "\n",
            "--- Step 3: Loading the test dataset ---\n",
            "Found 1311 images in the 'Testing' folder for final evaluation.\n"
          ]
        }
      ]
    },
    {
      "cell_type": "markdown",
      "source": [
        "Step 4: Load Model and Prepare Test Data"
      ],
      "metadata": {
        "id": "erQ0sKw3__fX"
      }
    },
    {
      "cell_type": "code",
      "source": [
        "\n",
        "print(\"\\n--- Step 4: Loading your fine-tuned model and preparing the test data ---\")\n",
        "\n",
        "# Load the model from the path you provided. The library handles loading all necessary files.\n",
        "model = SegformerForImageClassification.from_pretrained(MODEL_PATH_IN_DRIVE)\n",
        "model.to(device) # Move the model to the GPU\n",
        "model.eval()     # Set the model to evaluation mode\n",
        "\n",
        "# Load the image processor that was saved with the model to ensure transformations are identical\n",
        "image_processor = SegformerImageProcessor.from_pretrained(MODEL_PATH_IN_DRIVE)\n",
        "\n",
        "# Get the label mappings that were saved in the model's configuration\n",
        "label2id = model.config.label2id\n",
        "class_names = list(label2id.keys())\n",
        "print(f\"Model loaded successfully. Class names: {class_names}\")\n",
        "\n",
        "# Create a custom dataset class for the test data\n",
        "class TestDataset(Dataset):\n",
        "    def __init__(self, image_paths, labels, image_processor):\n",
        "        self.image_paths = image_paths\n",
        "        self.labels = labels\n",
        "        self.image_processor = image_processor\n",
        "\n",
        "    def __len__(self):\n",
        "        return len(self.image_paths)\n",
        "\n",
        "    def __getitem__(self, idx):\n",
        "        image = Image.open(self.image_paths[idx]).convert(\"RGB\")\n",
        "        label_id = label2id[self.labels[idx]]\n",
        "        pixel_values = self.image_processor(image, return_tensors=\"pt\").pixel_values.squeeze()\n",
        "        return {\"pixel_values\": pixel_values, \"labels\": torch.tensor(label_id)}\n",
        "\n",
        "# Create the final test dataset instance\n",
        "test_dataset = TestDataset(test_paths, test_labels, image_processor)\n",
        "print(f\"\\nTest dataset created with {len(test_dataset)} samples.\")"
      ],
      "metadata": {
        "colab": {
          "base_uri": "https://localhost:8080/"
        },
        "id": "9OfCEMt7__xp",
        "outputId": "837d0845-e5b0-4dde-b004-deffa2681dd7"
      },
      "execution_count": 4,
      "outputs": [
        {
          "output_type": "stream",
          "name": "stdout",
          "text": [
            "\n",
            "--- Step 4: Loading your fine-tuned model and preparing the test data ---\n",
            "Model loaded successfully. Class names: ['glioma', 'meningioma', 'notumor', 'pituitary']\n",
            "\n",
            "Test dataset created with 1311 samples.\n"
          ]
        }
      ]
    },
    {
      "cell_type": "markdown",
      "source": [
        "Step 5: Run Evaluation and Visualize Results"
      ],
      "metadata": {
        "id": "BBvzpx3zAFDw"
      }
    },
    {
      "cell_type": "code",
      "source": [
        "\n",
        "print(\"\\n--- Step 5: Starting Final Evaluation ---\")\n",
        "\n",
        "# Create a basic Trainer instance just for making predictions\n",
        "trainer = Trainer(model=model)\n",
        "\n",
        "# Get model predictions on the test dataset\n",
        "print(\"Generating predictions on the test set...\")\n",
        "predictions_output = trainer.predict(test_dataset)\n",
        "\n",
        "# The actual predictions are logits, so we take the argmax to get the predicted class\n",
        "predicted_labels = np.argmax(predictions_output.predictions, axis=1)\n",
        "true_labels = predictions_output.label_ids\n",
        "\n",
        "# --- Calculate and Display Accuracy Metrics ---\n",
        "print(\"\\n📊 CLASSIFICATION REPORT 📊\")\n",
        "# This report gives you precision, recall, f1-score, and accuracy for each class\n",
        "report = classification_report(true_labels, predicted_labels, target_names=class_names)\n",
        "print(report)\n",
        "\n",
        "# --- Visualize the Confusion Matrix ---\n",
        "print(\"\\n🖼️ CONFUSION MATRIX VISUALIZATION 🖼️\")\n",
        "cm = confusion_matrix(true_labels, predicted_labels)\n",
        "\n",
        "plt.figure(figsize=(10, 8))\n",
        "sns.heatmap(cm, annot=True, fmt='d', cmap='Blues',\n",
        "            xticklabels=class_names, yticklabels=class_names, annot_kws={\"size\": 14})\n",
        "plt.title('Confusion Matrix on Test Data', fontsize=16)\n",
        "plt.ylabel('True Label', fontsize=12)\n",
        "plt.xlabel('Predicted Label', fontsize=12)\n",
        "plt.show()"
      ],
      "metadata": {
        "colab": {
          "base_uri": "https://localhost:8080/",
          "height": 1000
        },
        "id": "HQ3rBd1QAFTe",
        "outputId": "68d9da35-3fc7-4830-d669-a029c3975a67"
      },
      "execution_count": 5,
      "outputs": [
        {
          "output_type": "stream",
          "name": "stderr",
          "text": [
            "Using the `WANDB_DISABLED` environment variable is deprecated and will be removed in v5. Use the --report_to flag to control the integrations used for logging result (for instance --report_to none).\n"
          ]
        },
        {
          "output_type": "stream",
          "name": "stdout",
          "text": [
            "\n",
            "--- Step 5: Starting Final Evaluation ---\n",
            "Generating predictions on the test set...\n"
          ]
        },
        {
          "output_type": "display_data",
          "data": {
            "text/plain": [
              "<IPython.core.display.HTML object>"
            ],
            "text/html": []
          },
          "metadata": {}
        },
        {
          "output_type": "stream",
          "name": "stdout",
          "text": [
            "\n",
            "📊 CLASSIFICATION REPORT 📊\n",
            "              precision    recall  f1-score   support\n",
            "\n",
            "      glioma       0.99      0.98      0.98       300\n",
            "  meningioma       0.96      0.97      0.97       306\n",
            "     notumor       0.99      1.00      0.99       405\n",
            "   pituitary       0.99      0.99      0.99       300\n",
            "\n",
            "    accuracy                           0.98      1311\n",
            "   macro avg       0.98      0.98      0.98      1311\n",
            "weighted avg       0.98      0.98      0.98      1311\n",
            "\n",
            "\n",
            "🖼️ CONFUSION MATRIX VISUALIZATION 🖼️\n"
          ]
        },
        {
          "output_type": "display_data",
          "data": {
            "text/plain": [
              "<Figure size 1000x800 with 2 Axes>"
            ],
            "image/png": "[encoded data removed]"
          },
          "metadata": {}
        }
      ]
    }
  ]
}